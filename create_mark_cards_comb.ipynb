{
 "cells": [
  {
   "cell_type": "markdown",
   "id": "3561060f",
   "metadata": {},
   "source": [
    "### Создание разметки для силы комбинаций\n",
    "\n",
    "    Порядок действий:\n",
    "    \n",
    "        1. Создать строковое представление для 52 карт\n",
    "        2. Создать словарь старшенства карт вида {строки из 1 пункта: range(0, 13)}\n",
    "        3. Создание функций для определения ранга комбинации (от старшей карты до флешрояль) и старшинства карт в комбинации\n",
    "        4. Создание всех возможных 5-картовых комбинаций из строк с помощью itetools.combinations\n",
    "        5. Разметка силы комбинаций внутри каждого ранга комбинаций\n",
    "        6. Генерация рандомного числа с зафиксированным сидом для 52 карт\n",
    "        7. Создание и сохранение словаря вида {карта: сгенерированное число}\n",
    "        8. Создание всех возможных 5-картовых комбинаций из чисел с помощью itetools.combinations\n",
    "        9. Сложение чисел по столбцам (2-D -> 1-D)\n",
    "        10. Создание словаря вида {сумма_чисел_в_комбинации: ранг_комбинации)"
   ]
  },
  {
   "cell_type": "code",
   "execution_count": 1,
   "id": "21bfc4d2",
   "metadata": {},
   "outputs": [],
   "source": [
    "import itertools\n",
    "import collections\n",
    "import pickle\n",
    "import re\n",
    "\n",
    "import pandas as pd\n",
    "import numpy as np"
   ]
  },
  {
   "cell_type": "code",
   "execution_count": 2,
   "id": "9b6efb36",
   "metadata": {},
   "outputs": [],
   "source": [
    "rang = tuple(['2', '3', '4', '5', '6', '7', '8', '9', 'T', 'J', 'Q', 'K', 'A'])\n",
    "suits = tuple(['c', 'h', 'd', 's'])\n",
    "\n",
    "cards = tuple([''.join([x[0], x[1]]) for x in itertools.product(rang, suits)])"
   ]
  },
  {
   "cell_type": "code",
   "execution_count": 3,
   "id": "d4ce6fde",
   "metadata": {},
   "outputs": [],
   "source": [
    "d = {key: value for (key, value) in zip(rang, range(len(rang)))}"
   ]
  },
  {
   "cell_type": "code",
   "execution_count": 4,
   "id": "d2189365",
   "metadata": {},
   "outputs": [],
   "source": [
    "def create_street(dict_card):\n",
    "    koleso = set([list(d.keys())[-1]] + list(d.keys())[:4])\n",
    "    l = [koleso]\n",
    "    for i in range(len(list(dict_card.keys()))-4):\n",
    "        l.append(set(list(dict_card.keys())[i: i +5]))\n",
    "    return l\n",
    "\n",
    "def rang_combination(combination, dict_card, street):\n",
    "    \n",
    "    card = list(re.search(r'\\d{1}|[^chds]', card, re.IGNORECASE).group() for card in combination)\n",
    "    suit = list(re.search(r'[chds]', card, re.IGNORECASE).group() for card in combination)    \n",
    "    \n",
    "    card_cnt = collections.Counter(card)\n",
    "    \n",
    "    card = set(card)\n",
    "    suit = set(suit)\n",
    "    \n",
    "    t = {dict_card[key]: value for (key, value) in card_cnt.items()}\n",
    "    dc = [x[0] for x in sorted(t.items(), key = lambda kv: [kv[1], kv[0]], reverse = True)]\n",
    "    \n",
    "    if len(card) == 5 and len(suit) != 1 and card not in street:\n",
    "        return (0, dc)#highcard\n",
    "    elif len(card) == 4:\n",
    "        return (1, dc) #pair\n",
    "    elif len(card) == 3 and set(card_cnt.values()) == {2, 2, 1}:\n",
    "        return (2, dc) #twopairs\n",
    "    elif len(card) == 3:\n",
    "        return (3, dc) #set\n",
    "    elif len(card) == 5 and len(suit) != 1 and card in street:\n",
    "        if dc == [12, 3, 2, 1, 0]:\n",
    "            return (4, [3, 2, 1, 0, -1]) # koleso\n",
    "        return (4, dc) #street\n",
    "    elif len(card) == 5 and len(suit) == 1 and card not in street:\n",
    "        return (5, dc) # flash\n",
    "    elif len(card) == 2 and set(card_cnt.values()) == {3, 2}:\n",
    "        return (6, dc) #fullhouse\n",
    "    elif len(card) == 2:\n",
    "        return (7, dc) #care\n",
    "    elif len(card) == 5 and len(suit) == 1 and card in street[:-1]:\n",
    "        if dc == [12, 3, 2, 1, 0]:\n",
    "            return (8, [3, 2, 1, 0, -1]) #koleso\n",
    "        return (8, dc) #street-flash\n",
    "    else:\n",
    "        return (9, dc) #flash-royal"
   ]
  },
  {
   "cell_type": "code",
   "execution_count": 5,
   "id": "a0b5d2b6",
   "metadata": {},
   "outputs": [],
   "source": [
    "all_comb = tuple(itertools.combinations(cards, 5))"
   ]
  },
  {
   "cell_type": "code",
   "execution_count": 6,
   "id": "cf499ac1",
   "metadata": {},
   "outputs": [],
   "source": [
    "h = {x: rang_combination(x, d, create_street(d)) for x in all_comb}"
   ]
  },
  {
   "cell_type": "code",
   "execution_count": 7,
   "id": "4db1108e",
   "metadata": {},
   "outputs": [],
   "source": [
    "a = pd.DataFrame({'hand': h.keys(), 'power': h.values()})"
   ]
  },
  {
   "cell_type": "code",
   "execution_count": 8,
   "id": "f4be5ca8",
   "metadata": {},
   "outputs": [],
   "source": [
    "a['cards'] = [x[1] for x in a['power']]\n",
    "a['power'] = [x[0] for x in a['power']]\n",
    "\n",
    "a[['card1', 'card2', 'card3', 'card4', 'card5']] = pd.DataFrame(a.cards.to_list(), index=a.index).fillna(0).astype(np.int8)\n",
    "\n",
    "a = a.drop(columns='cards')\n",
    "\n",
    "a = a.sort_values(by=['power', 'card1', 'card2', 'card3', 'card4', 'card5'], ascending=False).reset_index(drop=True)\n",
    "\n",
    "a['tmp'] = pd.Series((a['power'] != a['power'].shift(1)) | \\\n",
    "  (a['card1'] != a['card1'].shift(1)) | \\\n",
    "  (a['card2'] != a['card2'].shift(1)) | \\\n",
    "  (a['card3'] != a['card3'].shift(1)) | \\\n",
    "  (a['card1'] != a['card1'].shift(1)) | \\\n",
    "  (a['card5'] != a['card5'].shift(1)))\n",
    "\n",
    "a['mark'] = a.tmp.cumsum()-1\n",
    "a = a.drop(columns='tmp')"
   ]
  },
  {
   "cell_type": "code",
   "execution_count": 11,
   "id": "05a6dada",
   "metadata": {},
   "outputs": [],
   "source": [
    "np.random.seed(100)\n",
    "m = np.unique(np.random.randint(0, 15000, 250))**3\n",
    "num_cards = np.random.choice(m, 52, False)"
   ]
  },
  {
   "cell_type": "code",
   "execution_count": 12,
   "id": "d94a4a9c",
   "metadata": {},
   "outputs": [],
   "source": [
    "card_dict = {key: value for (key, value) in zip(cards, num_cards)}"
   ]
  },
  {
   "cell_type": "code",
   "execution_count": 13,
   "id": "63806852",
   "metadata": {},
   "outputs": [],
   "source": [
    "filehandler = open(\"card_dict.dat\", 'wb') \n",
    "pickle.dump(card_dict , filehandler, pickle.HIGHEST_PROTOCOL)\n",
    "filehandler.close()"
   ]
  },
  {
   "cell_type": "code",
   "execution_count": 14,
   "id": "d11fe2a0",
   "metadata": {},
   "outputs": [],
   "source": [
    "all_num = np.array(tuple(itertools.combinations(num_cards, 5)))\n",
    "\n",
    "all_num_sum = np.sum(all_num, axis= 1)\n",
    "\n",
    "h1 = {x[0]: x[1] for x in zip(all_comb, all_num_sum)}\n",
    "\n",
    "b = pd.DataFrame({'hand': h1.keys(), 'num': h1.values()})"
   ]
  },
  {
   "cell_type": "code",
   "execution_count": 15,
   "id": "32cda420",
   "metadata": {},
   "outputs": [],
   "source": [
    "df = a.loc[:, ['hand', 'mark']].merge(b, how='inner', on='hand', validate='1:1')"
   ]
  },
  {
   "cell_type": "code",
   "execution_count": 16,
   "id": "3192b3dd",
   "metadata": {},
   "outputs": [],
   "source": [
    "d = {key:value for (key, value) in zip(df['num'], df['mark'])}"
   ]
  },
  {
   "cell_type": "code",
   "execution_count": 17,
   "id": "696c4230",
   "metadata": {},
   "outputs": [],
   "source": [
    "np_key = np.array([x for x in df[\"num\"]], dtype=np.int64)"
   ]
  },
  {
   "cell_type": "code",
   "execution_count": 20,
   "id": "5f472da0",
   "metadata": {},
   "outputs": [],
   "source": [
    "np_value = np.array([x for x in df[\"mark\"]], dtype=np.int16)"
   ]
  },
  {
   "cell_type": "code",
   "execution_count": 23,
   "id": "02e6e2e5",
   "metadata": {},
   "outputs": [],
   "source": [
    "np.save(\"np_key.npy\", np_key)\n",
    "np.save(\"np_value.npy\", np_value)"
   ]
  },
  {
   "cell_type": "code",
   "execution_count": 16,
   "id": "1bdb9eb0",
   "metadata": {},
   "outputs": [],
   "source": [
    "df.loc[:, [\"num\", \"mark\"]].to_csv(\"comb_data.csv\", index=False)"
   ]
  },
  {
   "cell_type": "code",
   "execution_count": 14,
   "id": "258d2a6d",
   "metadata": {},
   "outputs": [],
   "source": [
    "filehandler = open(\"comb_dict.dat\", 'wb') \n",
    "pickle.dump(d , filehandler, pickle.HIGHEST_PROTOCOL)\n",
    "filehandler.close()"
   ]
  }
 ],
 "metadata": {
  "kernelspec": {
   "display_name": "Python 3",
   "language": "python",
   "name": "python3"
  },
  "language_info": {
   "codemirror_mode": {
    "name": "ipython",
    "version": 3
   },
   "file_extension": ".py",
   "mimetype": "text/x-python",
   "name": "python",
   "nbconvert_exporter": "python",
   "pygments_lexer": "ipython3",
   "version": "3.8.7"
  }
 },
 "nbformat": 4,
 "nbformat_minor": 5
}
